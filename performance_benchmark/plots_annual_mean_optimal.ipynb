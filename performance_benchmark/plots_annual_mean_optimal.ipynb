{
 "cells": [
  {
   "attachments": {},
   "cell_type": "markdown",
   "metadata": {},
   "source": [
    "# Performance Bencharmk: Accessing Datasets in the Jasmin Object Store"
   ]
  },
  {
   "cell_type": "code",
   "execution_count": 1,
   "metadata": {
    "collapsed": true
   },
   "outputs": [],
   "source": [
    "import warnings\n",
    "\n",
    "import pandas as pd\n",
    "import matplotlib.pyplot as plt\n",
    "import seaborn as sns\n",
    "import numpy as np\n",
    "from itertools import chain\n",
    "\n",
    "from performance_plots import plot_barplot, plot_lineplot\n",
    "from performance_utils import calculate_speed_up"
   ]
  },
  {
   "cell_type": "code",
   "execution_count": 2,
   "metadata": {},
   "outputs": [],
   "source": [
    "# Warning settings\n",
    "warnings.filterwarnings(\"ignore\")\n",
    "\n",
    "# Seaborn settings\n",
    "sns.set()\n",
    "sns.set_style(\"white\")\n",
    "sns.set_context(\"notebook\", font_scale=0.95)\n",
    "\n",
    "# Matplotlib settings\n",
    "plt.rcParams.update({\"xtick.bottom\": True, \"ytick.left\": True})"
   ]
  },
  {
   "cell_type": "code",
   "execution_count": 3,
   "metadata": {},
   "outputs": [],
   "source": [
    "output_file_prefix = \"performance_annual_mean_optimal\"\n",
    "save_fig = False\n",
    "error_kwargs = {\"capsize\": 0.1, \"errwidth\": 1, \"errorbar\": \"sd\"}"
   ]
  },
  {
   "attachments": {},
   "cell_type": "markdown",
   "metadata": {},
   "source": [
    "## Annual mean of the depth profile at a grid point // Annual mean of the surface layer"
   ]
  },
  {
   "cell_type": "code",
   "execution_count": 4,
   "metadata": {
    "collapsed": false
   },
   "outputs": [
    {
     "data": {
      "text/html": [
       "<div>\n",
       "<style scoped>\n",
       "    .dataframe tbody tr th:only-of-type {\n",
       "        vertical-align: middle;\n",
       "    }\n",
       "\n",
       "    .dataframe tbody tr th {\n",
       "        vertical-align: top;\n",
       "    }\n",
       "\n",
       "    .dataframe thead th {\n",
       "        text-align: right;\n",
       "    }\n",
       "</style>\n",
       "<table border=\"1\" class=\"dataframe\">\n",
       "  <thead>\n",
       "    <tr style=\"text-align: right;\">\n",
       "      <th></th>\n",
       "      <th>Replicate</th>\n",
       "      <th>Configuration</th>\n",
       "      <th>Walltime</th>\n",
       "      <th>Label</th>\n",
       "      <th>Dataset</th>\n",
       "    </tr>\n",
       "  </thead>\n",
       "  <tbody>\n",
       "    <tr>\n",
       "      <th>1</th>\n",
       "      <td>1.0</td>\n",
       "      <td>1:1:1</td>\n",
       "      <td>241.761930</td>\n",
       "      <td>multithreading</td>\n",
       "      <td>zarr-part-month-2</td>\n",
       "    </tr>\n",
       "    <tr>\n",
       "      <th>2</th>\n",
       "      <td>2.0</td>\n",
       "      <td>1:1:1</td>\n",
       "      <td>309.500563</td>\n",
       "      <td>multithreading</td>\n",
       "      <td>zarr-part-month-2</td>\n",
       "    </tr>\n",
       "    <tr>\n",
       "      <th>3</th>\n",
       "      <td>3.0</td>\n",
       "      <td>1:1:1</td>\n",
       "      <td>289.928426</td>\n",
       "      <td>multithreading</td>\n",
       "      <td>zarr-part-month-2</td>\n",
       "    </tr>\n",
       "    <tr>\n",
       "      <th>4</th>\n",
       "      <td>4.0</td>\n",
       "      <td>1:1:1</td>\n",
       "      <td>270.502426</td>\n",
       "      <td>multithreading</td>\n",
       "      <td>zarr-part-month-2</td>\n",
       "    </tr>\n",
       "    <tr>\n",
       "      <th>6</th>\n",
       "      <td>1.0</td>\n",
       "      <td>2:1:2</td>\n",
       "      <td>133.335107</td>\n",
       "      <td>multithreading</td>\n",
       "      <td>zarr-part-month-2</td>\n",
       "    </tr>\n",
       "  </tbody>\n",
       "</table>\n",
       "</div>"
      ],
      "text/plain": [
       "   Replicate Configuration    Walltime           Label            Dataset\n",
       "1        1.0         1:1:1  241.761930  multithreading  zarr-part-month-2\n",
       "2        2.0         1:1:1  309.500563  multithreading  zarr-part-month-2\n",
       "3        3.0         1:1:1  289.928426  multithreading  zarr-part-month-2\n",
       "4        4.0         1:1:1  270.502426  multithreading  zarr-part-month-2\n",
       "6        1.0         2:1:2  133.335107  multithreading  zarr-part-month-2"
      ]
     },
     "execution_count": 4,
     "metadata": {},
     "output_type": "execute_result"
    }
   ],
   "source": [
    "# Open the csv files\n",
    "# Annual mean of the deapth profile at a grid point\n",
    "df_grid_orig = pd.read_csv(\n",
    "    \"benchmark_data/raw_data/performance_annual_mean_depth_profile_grid.csv\"\n",
    ")\n",
    "df_grid_opt = pd.read_csv(\n",
    "    \"benchmark_data/raw_data/performance_annual_mean_depth_profile_grid_optimal.csv\"\n",
    ")\n",
    "df_grid_opt.drop(df_grid_opt[df_grid_opt[\"Replicate\"] == 0].index, inplace=True)\n",
    "df_grid = pd.concat([df_grid_orig, df_grid_opt])\n",
    "df_grid.drop(df_grid.filter(regex=\"Unname\"), axis=1, inplace=True)\n",
    "\n",
    "# Annual mean of the surface layer\n",
    "df_surf_orig = pd.read_csv(\n",
    "    \"benchmark_data/raw_data/performance_annual_mean_surface_layer.csv\"\n",
    ")\n",
    "df_surf_opt = pd.read_csv(\n",
    "    \"benchmark_data/raw_data/performance_annual_mean_surface_layer_optimal.csv\"\n",
    ")\n",
    "df_surf_opt.drop(df_surf_opt[df_surf_opt[\"Replicate\"] == 0].index, inplace=True)\n",
    "df_surf = pd.concat([df_surf_opt, df_surf_orig])\n",
    "df_surf.drop(df_surf.filter(regex=\"Unname\"), axis=1, inplace=True)\n",
    "df_surf.head()"
   ]
  },
  {
   "attachments": {},
   "cell_type": "markdown",
   "metadata": {},
   "source": [
    "### Optimal chunk size for annual means"
   ]
  },
  {
   "cell_type": "code",
   "execution_count": 5,
   "metadata": {},
   "outputs": [],
   "source": [
    "# Define the chunksize for each dataset\n",
    "chunksize = {\n",
    "    \"zarr-part-month-orig\": 1.98,\n",
    "    \"zarr-part-month\": 6.35,\n",
    "    # \"zarr-part-month-2\": 2.11,\n",
    "    \"zarr-part-month-3\": 28.03,\n",
    "    \"zarr-part-month-4\": 63.06,\n",
    "    \"zarr-part-month-5\": 112.14,\n",
    "    \"zarr-part-depth-month\": 252.17,\n",
    "}"
   ]
  },
  {
   "cell_type": "code",
   "execution_count": 6,
   "metadata": {},
   "outputs": [
    {
     "data": {
      "image/png": "[encoded data removed]",
      "text/plain": [
       "<Figure size 800x600 with 1 Axes>"
      ]
     },
     "metadata": {},
     "output_type": "display_data"
    }
   ],
   "source": [
    "config = \"16:8:2\"\n",
    "datasets = list(chunksize.keys())\n",
    "colors = (c for c in sns.color_palette(\"deep\"))\n",
    "\n",
    "# Walltime means\n",
    "means_grid = [\n",
    "    df_grid.loc[\n",
    "        (df_grid[\"Configuration\"] == config) & (df_grid[\"Dataset\"] == dataset)\n",
    "    ].mean()[\"Walltime\"]\n",
    "    for dataset in datasets\n",
    "]\n",
    "means_surf = [\n",
    "    df_surf.loc[\n",
    "        (df_surf[\"Configuration\"] == config) & (df_surf[\"Dataset\"] == dataset)\n",
    "    ].mean()[\"Walltime\"]\n",
    "    for dataset in datasets\n",
    "]\n",
    "means_both = [(x + y) / 2.0 for x, y in zip(means_grid, means_surf)]\n",
    "\n",
    "# Standard deviations\n",
    "stddev_grid = [\n",
    "    df_grid.loc[\n",
    "        (df_grid[\"Configuration\"] == config) & (df_grid[\"Dataset\"] == dataset)\n",
    "    ].std()[\"Walltime\"]\n",
    "    for dataset in datasets\n",
    "]\n",
    "stddev_surf = [\n",
    "    df_surf.loc[\n",
    "        (df_surf[\"Configuration\"] == config) & (df_surf[\"Dataset\"] == dataset)\n",
    "    ].std()[\"Walltime\"]\n",
    "    for dataset in datasets\n",
    "]\n",
    "stddev_both = [np.sqrt(x * x + y * y) / 2.0 for x, y in zip(stddev_grid, stddev_surf)]\n",
    "\n",
    "sizes = list(chunksize.values())\n",
    "\n",
    "\n",
    "f, ax = plt.subplots(figsize=(8, 6))\n",
    "error_kwargs = {\n",
    "    \"err_kws\": {\"lw\": 1, \"capsize\": 5},\n",
    "    \"err_style\": \"bars\",\n",
    "    \"errorbar\": \"sd\",\n",
    "}\n",
    "\n",
    "for y, std, label in zip(\n",
    "    [means_grid, means_surf, means_both],\n",
    "    [stddev_grid, stddev_surf, stddev_both],\n",
    "    [\"Depth profile\", \"Surface layer\", \"Average\"],\n",
    "):\n",
    "    ax.errorbar(\n",
    "        sizes,\n",
    "        y,\n",
    "        std,\n",
    "        color=next(colors),\n",
    "        lw=1.5,\n",
    "        alpha=0.8,\n",
    "        linestyle=\"dashed\",\n",
    "        marker=\"o\",\n",
    "        markersize=5,\n",
    "        label=label,\n",
    "        capsize=5,\n",
    "        capthick=1,\n",
    "    )\n",
    "\n",
    "# Grid, lims\n",
    "ax.grid(visible=True, which=\"major\", axis=\"both\")\n",
    "ax.set_ylim([0, 12.2])\n",
    "\n",
    "# Label\n",
    "ax.set_xlabel(\"Chunk size [MB]\")\n",
    "ax.set_ylabel(\"Walltime [s]\")\n",
    "ax.xaxis.label.set_color(\"grey\")\n",
    "ax.yaxis.label.set_color(\"grey\")\n",
    "\n",
    "# Spines' visibility\n",
    "ax.spines[\"top\"].set_visible(False)\n",
    "ax.spines[\"right\"].set_visible(False)\n",
    "ax.spines[\"bottom\"].set_visible(True)\n",
    "ax.spines[\"left\"].set_visible(True)\n",
    "\n",
    "# Spines' color\n",
    "ax.spines[\"top\"].set_color(\"grey\")\n",
    "ax.spines[\"right\"].set_color(\"grey\")\n",
    "ax.spines[\"bottom\"].set_color(\"grey\")\n",
    "ax.spines[\"left\"].set_color(\"grey\")\n",
    "\n",
    "# Ticks\n",
    "ax.tick_params(colors=\"grey\", which=\"both\")\n",
    "\n",
    "# Legend\n",
    "leg = ax.legend(\n",
    "    frameon=False,\n",
    "    labelcolor=\"grey\",\n",
    "    bbox_to_anchor=(0.1, 1.08),\n",
    "    title=\"\",\n",
    "    ncol=3,\n",
    "    loc=\"upper left\",\n",
    ")\n",
    "plt.setp(leg.get_title(), color=\"grey\")\n",
    "# Vertical lines\n",
    "ax.vlines(x=sizes[1], ymin=0, ymax=means_both[1], colors=\"grey\", linestyles=\"--\")\n",
    "ax.vlines(x=sizes[2], ymin=0, ymax=means_both[2], colors=\"grey\", linestyles=\"--\")\n",
    "ax.fill_between(sizes[1:3], means_both[1:3], alpha=0.4, color=\"grey\")\n",
    "ax.set_xticks(sizes[1:])\n",
    "\n",
    "if save_fig:\n",
    "    plt.savefig(\n",
    "        f\"{output_file_prefix}_optimal_chunksize.png\",\n",
    "        dpi=600,\n",
    "        transparent=True,\n",
    "        bbox_inches=\"tight\",\n",
    "    )\n",
    "plt.show()"
   ]
  },
  {
   "attachments": {},
   "cell_type": "markdown",
   "metadata": {},
   "source": [
    "- The optimal chunksize is somewhere between ca. 5-30 MB.\n",
    "- As a rule of thumb, chunks of approximately 10 MB should perform well."
   ]
  }
 ],
 "metadata": {
  "kernelspec": {
   "display_name": "msm",
   "language": "python",
   "name": "python3"
  },
  "language_info": {
   "codemirror_mode": {
    "name": "ipython",
    "version": 3
   },
   "file_extension": ".py",
   "mimetype": "text/x-python",
   "name": "python",
   "nbconvert_exporter": "python",
   "pygments_lexer": "ipython3",
   "version": "3.11.0"
  },
  "vscode": {
   "interpreter": {
    "hash": "f778c0e441e0b0e90faf784fd805b4d51a5ef54b382052cef497dfcd32c81575"
   }
  }
 },
 "nbformat": 4,
 "nbformat_minor": 0
}
